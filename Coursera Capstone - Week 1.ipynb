{
    "cells": [
        {
            "cell_type": "markdown",
            "metadata": {
                "collapsed": true
            },
            "source": "# Introduction"
        },
        {
            "cell_type": "markdown",
            "metadata": {},
            "source": "     The caf\u00e9 culture has had long history in Melbourne since 1890s. It has created a significant impact on the food scene. It started with traditional style caf\u00e9 and street coffee stalls between 1900s and 1950s. The coffee related caf\u00e9 culture started gaining attention in the 1970s. It moved towards a youth focused in 1980s which expanded the targeted consumers to younger generations while they could enjoy coffee, food and music in one place. It continuously evolved to a venue where people could have enjoyable dining experience in a less formal dining style. In the 1990s, the caf\u00e9 culture was encouraged by government which was believed to repopulate of local areas and stimulate a service-based economy. [1] \n \n    The strong caf\u00e9 culture in Melbourne has connection to the Italian style coffee due to the incoming of Italian immigrants after World War II. This is the reason that each caf\u00e9 pays attention to their own specialty coffee and makes some well-known chained coffee brand suffering from business. Up to date, this caf\u00e9 culture still attaches to a strong focus on coffee blending with lots of innovative and creative elements. Every caf\u00e9 uses their specialty coffee and unique dish to attract customers while some of them have become tourism attractions. [1]\n    \n    With all selections given, how do you make decision? Imagine you\u2019re a tourist, how will you pick the top caf\u00e9s from the sea of coffee?   \n"
        },
        {
            "cell_type": "markdown",
            "metadata": {},
            "source": "# Aim"
        },
        {
            "cell_type": "markdown",
            "metadata": {},
            "source": "    \u2022\tExplore a great variety of caf\u00e9s in Melbourne\n    \u2022\tInvestigate the general affordability of dining in caf\u00e9s\n    \u2022\tUnderstand the rating and reviews of caf\u00e9s\n    \u2022\tProvide an easier way to choose by categorizing the caf\u00e9s\n"
        },
        {
            "cell_type": "markdown",
            "metadata": {},
            "source": "# Stakeholders"
        },
        {
            "cell_type": "markdown",
            "metadata": {},
            "source": "    \u2022\tcoffee lovers \n    \u2022\tfoodie \n    \u2022\tfood bloggers \n    \u2022\ttourists\n"
        },
        {
            "cell_type": "markdown",
            "metadata": {},
            "source": "# Data source"
        },
        {
            "cell_type": "markdown",
            "metadata": {},
            "source": "    Two datasets were collected in this project, a restaurants-based dataset and a location-based dataset. \n    \n    The first dataset was retrieved through Zomato API. Zomato is a famous restaurant aggregator which provides information of restaurants, user reviews, rating, price range and others. It is a useful tool in this project as the rating and price range features were adopted for analysis. Zomato API is free and one can make up to 1000 calls with basic package. Information of caf\u00e9s were requested by setting 10 km radius around the center of Melbourne CBD.\n\t\n    The second data set came from Foursquare API. Foursquare is a high-quality location data platform. By using the information of 100 caf\u00e9s retrieved from Zomato, the corresponding geographical coordinated were collected. This location dataset will be plotted for visualization.\n"
        },
        {
            "cell_type": "markdown",
            "metadata": {},
            "source": "# Methodology"
        },
        {
            "cell_type": "markdown",
            "metadata": {},
            "source": "    Exploratory Data Analysis\n    \n\tFirstly, the dining cost will be investigated. To find out a more precise average dining cost, the feature \u2018average cost for two\u2019 will be plotted against \u2018price_range\u2019 in a scatter plot. The contrast of colors corresponded to the number of caf\u00e9s that falls on the specific dining cost. Next, the price range will be shown in a bar chart with the respective number of cafes which can give a better understanding of how much to pay when dining in caf\u00e9s.\n\t\n    From the perspective of caf\u00e9\u2019s quality, it is reflected through the ratings given by users. Hence, this can be presented by another bar char with the rating with its respective number of caf\u00e9s. It will give the customers an idea of the general quality of caf\u00e9s in Melbourne.\n\t\n    Although rating can be indicator of the caf\u00e9s, it should be supported by a considerable number of votes in order to avoid biases. Hence, the number of reviews will be plotted in a histogram to find out the general number of votes received by each caf\u00e9.\n    \n    KMeans Clustering\n    \t\n    K-means clustering is a method of vector quantization that aims to partition the caf\u00e9s into cluster by taking dining cost and rating into accounts. In this project, three cluster centroids will be generated to categorize the caf\u00e9s. \n"
        }
    ],
    "metadata": {
        "kernelspec": {
            "display_name": "Python 3.6",
            "language": "python",
            "name": "python3"
        },
        "language_info": {
            "codemirror_mode": {
                "name": "ipython",
                "version": 3
            },
            "file_extension": ".py",
            "mimetype": "text/x-python",
            "name": "python",
            "nbconvert_exporter": "python",
            "pygments_lexer": "ipython3",
            "version": "3.6.9"
        }
    },
    "nbformat": 4,
    "nbformat_minor": 1
}